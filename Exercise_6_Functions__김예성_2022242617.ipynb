{
  "nbformat": 4,
  "nbformat_minor": 0,
  "metadata": {
    "colab": {
      "provenance": [],
      "authorship_tag": "ABX9TyOp1vBwmQUawZe34IX62FyG",
      "include_colab_link": true
    },
    "kernelspec": {
      "name": "python3",
      "display_name": "Python 3"
    },
    "language_info": {
      "name": "python"
    }
  },
  "cells": [
    {
      "cell_type": "markdown",
      "metadata": {
        "id": "view-in-github",
        "colab_type": "text"
      },
      "source": [
        "<a href=\"https://colab.research.google.com/github/Bryanyskim/Python_Programming_Class/blob/main/Exercise_6_Functions__%EA%B9%80%EC%98%88%EC%84%B1_2022242617.ipynb\" target=\"_parent\"><img src=\"https://colab.research.google.com/assets/colab-badge.svg\" alt=\"Open In Colab\"/></a>"
      ]
    },
    {
      "cell_type": "code",
      "execution_count": 1,
      "metadata": {
        "id": "6trhntmi5iEX"
      },
      "outputs": [],
      "source": [
        "# def 로 함수를 정의하고, 홀출하면 된다. \n",
        "# 무슨함수인지 확인하기 위해서는 help(함수명)을 하면 된다. \n",
        "# 변수는 정보를 담는 그릇임\n",
        "\n",
        "# 오래가져가는 변수와 일시적인 변수를 나누어 생각하라 \n",
        "#local variable (지연변수) global variable (전역변수) \n",
        "\n"
      ]
    },
    {
      "cell_type": "markdown",
      "source": [
        "[Tip] How do I learn more about the pre-defined functions in Python?\n",
        "We will be introducing a variety of pre-defined functions to you as you learn more about Python. There are just too many functions, so there's no way we can teach them all in one sitting. But if you'd like to take a quick peek, here's a short reference card for some of the commonly-used pre-defined functions: [Reference](https://colab.research.google.com/drive/1G6Q68XWl-wJkprxT_czgCSlRNZD-MjVE#scrollTo=Q0DfiAL5PiNZ&line=2&uniqifier=1)"
      ],
      "metadata": {
        "id": "Q0DfiAL5PiNZ"
      }
    },
    {
      "cell_type": "code",
      "source": [
        "def div(a,b):\n",
        "    return(a/b)"
      ],
      "metadata": {
        "id": "M-SfTB7sPj5B"
      },
      "execution_count": 2,
      "outputs": []
    },
    {
      "cell_type": "code",
      "source": [
        "def con(a,b):\n",
        "    return(a+b)\n",
        "    "
      ],
      "metadata": {
        "id": "SFZT155uSk4Y"
      },
      "execution_count": 3,
      "outputs": []
    },
    {
      "cell_type": "code",
      "source": [
        "con(2,2)"
      ],
      "metadata": {
        "colab": {
          "base_uri": "https://localhost:8080/"
        },
        "id": "qOrRndztSsyw",
        "outputId": "d3985b17-385c-4657-8aa3-6ac620efb523"
      },
      "execution_count": 6,
      "outputs": [
        {
          "output_type": "execute_result",
          "data": {
            "text/plain": [
              "4"
            ]
          },
          "metadata": {},
          "execution_count": 6
        }
      ]
    },
    {
      "cell_type": "code",
      "source": [
        "con(['a',1],['b',1])"
      ],
      "metadata": {
        "colab": {
          "base_uri": "https://localhost:8080/"
        },
        "id": "m-SZzmOWS0k7",
        "outputId": "40c2ddae-1c01-4c5c-9091-7d8989b17a8f"
      },
      "execution_count": 7,
      "outputs": [
        {
          "output_type": "execute_result",
          "data": {
            "text/plain": [
              "['a', 1, 'b', 1]"
            ]
          },
          "metadata": {},
          "execution_count": 7
        }
      ]
    },
    {
      "cell_type": "code",
      "source": [],
      "metadata": {
        "id": "mmZ3E9_STKHp"
      },
      "execution_count": null,
      "outputs": []
    }
  ]
}