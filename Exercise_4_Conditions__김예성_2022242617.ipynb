{
  "nbformat": 4,
  "nbformat_minor": 0,
  "metadata": {
    "colab": {
      "provenance": [],
      "authorship_tag": "ABX9TyOSJx8PLVGoirpeDJgrXGFW",
      "include_colab_link": true
    },
    "kernelspec": {
      "name": "python3",
      "display_name": "Python 3"
    },
    "language_info": {
      "name": "python"
    }
  },
  "cells": [
    {
      "cell_type": "markdown",
      "metadata": {
        "id": "view-in-github",
        "colab_type": "text"
      },
      "source": [
        "<a href=\"https://colab.research.google.com/github/Bryanyskim/Python_Programming_Class/blob/main/Exercise_4_Conditions__%EA%B9%80%EC%98%88%EC%84%B1_2022242617.ipynb\" target=\"_parent\"><img src=\"https://colab.research.google.com/assets/colab-badge.svg\" alt=\"Open In Colab\"/></a>"
      ]
    },
    {
      "cell_type": "code",
      "execution_count": null,
      "metadata": {
        "id": "JL7sLSLijsDQ"
      },
      "outputs": [],
      "source": [
        "#절차는 규칙이다. if than문을 얼마나 효율적으로 짤 수 있는 것이가? if that 문을 얼마나 빠르게 실행하게할 것인가? if than 문이 가장 중요함\n"
      ]
    },
    {
      "cell_type": "code",
      "source": [
        "# == / != > < >= <= \n",
        "a = 5 \n",
        "a == 6\n"
      ],
      "metadata": {
        "colab": {
          "base_uri": "https://localhost:8080/"
        },
        "id": "2TR9pllvkom4",
        "outputId": "7bb4e876-8ad2-4d1e-f7f3-59312e6d3ec9"
      },
      "execution_count": 1,
      "outputs": [
        {
          "output_type": "execute_result",
          "data": {
            "text/plain": [
              "False"
            ]
          },
          "metadata": {},
          "execution_count": 1
        }
      ]
    },
    {
      "cell_type": "code",
      "source": [
        "i = 2\n",
        "i != 2"
      ],
      "metadata": {
        "colab": {
          "base_uri": "https://localhost:8080/"
        },
        "id": "C1TvMuRLk5DG",
        "outputId": "dfd9e765-7b48-4675-e526-0713e1427084"
      },
      "execution_count": 2,
      "outputs": [
        {
          "output_type": "execute_result",
          "data": {
            "text/plain": [
              "False"
            ]
          },
          "metadata": {},
          "execution_count": 2
        }
      ]
    },
    {
      "cell_type": "code",
      "source": [
        "i = 6 \n",
        "i != 6\n"
      ],
      "metadata": {
        "colab": {
          "base_uri": "https://localhost:8080/"
        },
        "id": "x2C9eo4AlDBC",
        "outputId": "340e8c3f-3bf2-4910-b4af-20267f0075ba"
      },
      "execution_count": 3,
      "outputs": [
        {
          "output_type": "execute_result",
          "data": {
            "text/plain": [
              "False"
            ]
          },
          "metadata": {},
          "execution_count": 3
        }
      ]
    },
    {
      "cell_type": "code",
      "source": [
        "age = 17 \n",
        "if age>18:\n",
        "  print(\"you can enter\")\n",
        "else:\n",
        "  print(\"Prohibited\")\n",
        "  print(\"okay\")\n"
      ],
      "metadata": {
        "colab": {
          "base_uri": "https://localhost:8080/"
        },
        "id": "tDUZuMc1lJ9g",
        "outputId": "e1a1b6e0-1d03-4400-9d59-1249a1a1b283"
      },
      "execution_count": 7,
      "outputs": [
        {
          "output_type": "stream",
          "name": "stdout",
          "text": [
            "Prohibited\n",
            "okay\n"
          ]
        }
      ]
    },
    {
      "cell_type": "code",
      "source": [
        "age = 18\n",
        "\n",
        "if age > 18:\n",
        "  print(\"you can enter\")\n",
        "else:\n",
        "  print(\"go see Meat Loaf\")\n",
        "  print(\"move on\")"
      ],
      "metadata": {
        "colab": {
          "base_uri": "https://localhost:8080/"
        },
        "id": "1HxYY2XJl9lE",
        "outputId": "20b6ff55-e092-49fb-d2d3-3146d612a62d"
      },
      "execution_count": 13,
      "outputs": [
        {
          "output_type": "stream",
          "name": "stdout",
          "text": [
            "go see Meat Loaf\n",
            "move on\n"
          ]
        }
      ]
    },
    {
      "cell_type": "code",
      "source": [
        "age = 17 \n",
        "\n",
        "if age >18:\n",
        "   print(\"you can enter\")\n",
        "elif age == 18:\n",
        "   print(\"go see Pink Floyd\")\n",
        "elif age == 0:\n",
        "   print(\"this kid cannot leave home\")\n",
        "else: \n",
        "   print(\"go see Meat Loaf\")"
      ],
      "metadata": {
        "colab": {
          "base_uri": "https://localhost:8080/"
        },
        "id": "Pr-kNjOHnHlb",
        "outputId": "67efcfe0-2f79-44db-e242-dc1540da9c73"
      },
      "execution_count": 14,
      "outputs": [
        {
          "output_type": "stream",
          "name": "stdout",
          "text": [
            "go see Meat Loaf\n"
          ]
        }
      ]
    },
    {
      "cell_type": "code",
      "source": [
        "age = 18 \n",
        "\n",
        "if age >18:\n",
        "   print(\"you can enter\")\n",
        "elif age == 18:\n",
        "   print(\"go see Pink Floyd\")\n",
        "elif age == 0:\n",
        "   print(\"this kid cannot leave home\")\n",
        "else: \n",
        "   print(\"go see Meat Loaf\")"
      ],
      "metadata": {
        "colab": {
          "base_uri": "https://localhost:8080/"
        },
        "id": "dRAy9zPboAjl",
        "outputId": "13d2122a-f0d8-40ef-87f7-220c4eab17a3"
      },
      "execution_count": 15,
      "outputs": [
        {
          "output_type": "stream",
          "name": "stdout",
          "text": [
            "go see Pink Floyd\n"
          ]
        }
      ]
    },
    {
      "cell_type": "code",
      "source": [
        "album_year = 1993\n",
        "\n",
        "if album_year > 1980:\n",
        "   print(\"Album year is greater thatn 1980\")\n"
      ],
      "metadata": {
        "colab": {
          "base_uri": "https://localhost:8080/"
        },
        "id": "yAVez3xPoOTh",
        "outputId": "4bffc01d-5153-440a-db51-bb404bcc7b14"
      },
      "execution_count": 16,
      "outputs": [
        {
          "output_type": "stream",
          "name": "stdout",
          "text": [
            "Album year is greater thatn 1980\n"
          ]
        }
      ]
    },
    {
      "cell_type": "code",
      "source": [
        "#and or if not 조건을 사용"
      ],
      "metadata": {
        "id": "LnNrarWjomZ-"
      },
      "execution_count": 17,
      "outputs": []
    },
    {
      "cell_type": "code",
      "source": [
        "rating = 8.5\n",
        "if rating >8:\n",
        "   print (\"This album is Amazing\")"
      ],
      "metadata": {
        "colab": {
          "base_uri": "https://localhost:8080/"
        },
        "id": "jjQqi0QxuhvW",
        "outputId": "56f68fbe-da9e-4560-d879-a491b88b9e75"
      },
      "execution_count": 18,
      "outputs": [
        {
          "output_type": "stream",
          "name": "stdout",
          "text": [
            "This album is Amazing\n"
          ]
        }
      ]
    },
    {
      "cell_type": "code",
      "source": [
        "rating = 8.5 \n",
        "if rating >8: \n",
        "   print (\"This album is amazing\")\n",
        "else:\n",
        "   print (\"This album is OK\")"
      ],
      "metadata": {
        "colab": {
          "base_uri": "https://localhost:8080/"
        },
        "id": "n3KPDW4ju4TT",
        "outputId": "3b76eea6-4e35-41e3-cdf7-b74d6a1a120b"
      },
      "execution_count": 22,
      "outputs": [
        {
          "output_type": "stream",
          "name": "stdout",
          "text": [
            "This album is amazing\n"
          ]
        }
      ]
    },
    {
      "cell_type": "code",
      "source": [
        "album_year = 1979\n",
        "\n",
        "if album_year <1980 or album_year == 1991 or album_year ==1993:\n",
        "   print (\"this album came out already\")"
      ],
      "metadata": {
        "colab": {
          "base_uri": "https://localhost:8080/"
        },
        "id": "Qd0IdO7xvUPv",
        "outputId": "40b7034c-e582-43c4-f57e-0a3f136040b1"
      },
      "execution_count": 23,
      "outputs": [
        {
          "output_type": "stream",
          "name": "stdout",
          "text": [
            "this album came out already\n"
          ]
        }
      ]
    },
    {
      "cell_type": "code",
      "source": [],
      "metadata": {
        "id": "mfw5jU9bv2BY"
      },
      "execution_count": null,
      "outputs": []
    }
  ]
}