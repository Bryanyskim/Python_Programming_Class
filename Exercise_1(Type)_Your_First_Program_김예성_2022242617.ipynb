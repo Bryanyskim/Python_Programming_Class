{
  "nbformat": 4,
  "nbformat_minor": 0,
  "metadata": {
    "colab": {
      "provenance": [],
      "authorship_tag": "ABX9TyOfxV/ZwSVejgghymqmn0J6",
      "include_colab_link": true
    },
    "kernelspec": {
      "name": "python3",
      "display_name": "Python 3"
    },
    "language_info": {
      "name": "python"
    }
  },
  "cells": [
    {
      "cell_type": "markdown",
      "metadata": {
        "id": "view-in-github",
        "colab_type": "text"
      },
      "source": [
        "<a href=\"https://colab.research.google.com/github/Bryanyskim/Python_Programming_Class/blob/main/Exercise_1(Type)_Your_First_Program_%EA%B9%80%EC%98%88%EC%84%B1_2022242617.ipynb\" target=\"_parent\"><img src=\"https://colab.research.google.com/assets/colab-badge.svg\" alt=\"Open In Colab\"/></a>"
      ]
    },
    {
      "cell_type": "code",
      "source": [
        "print('hello, world!!')\n",
        "# 교수님 늦었지만, 끝까지 포기하지 않고 완주해 보겠습니다. "
      ],
      "metadata": {
        "colab": {
          "base_uri": "https://localhost:8080/"
        },
        "id": "wvm1hi-_RjbH",
        "outputId": "b55daf07-2aff-4ce9-8b63-818f48dea671"
      },
      "execution_count": 4,
      "outputs": [
        {
          "output_type": "stream",
          "name": "stdout",
          "text": [
            "hello, world!!\n"
          ]
        }
      ]
    },
    {
      "cell_type": "code",
      "source": [
        "type (12.0)"
      ],
      "metadata": {
        "colab": {
          "base_uri": "https://localhost:8080/"
        },
        "id": "iFjmyYKrRrAv",
        "outputId": "39cf0a33-ba43-4823-98f1-20ad8c023863"
      },
      "execution_count": 5,
      "outputs": [
        {
          "output_type": "execute_result",
          "data": {
            "text/plain": [
              "float"
            ]
          },
          "metadata": {},
          "execution_count": 5
        }
      ]
    },
    {
      "cell_type": "code",
      "source": [],
      "metadata": {
        "id": "1kMSwBbsShXF"
      },
      "execution_count": null,
      "outputs": []
    }
  ]
}