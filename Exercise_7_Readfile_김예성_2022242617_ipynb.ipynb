{
  "nbformat": 4,
  "nbformat_minor": 0,
  "metadata": {
    "colab": {
      "provenance": [],
      "authorship_tag": "ABX9TyM4WJfBe4KQyPMPro7hjAoQ",
      "include_colab_link": true
    },
    "kernelspec": {
      "name": "python3",
      "display_name": "Python 3"
    },
    "language_info": {
      "name": "python"
    }
  },
  "cells": [
    {
      "cell_type": "markdown",
      "metadata": {
        "id": "view-in-github",
        "colab_type": "text"
      },
      "source": [
        "<a href=\"https://colab.research.google.com/github/Bryanyskim/Python_Programming_Class/blob/main/Exercise_7_Readfile_%EA%B9%80%EC%98%88%EC%84%B1_2022242617_ipynb.ipynb\" target=\"_parent\"><img src=\"https://colab.research.google.com/assets/colab-badge.svg\" alt=\"Open In Colab\"/></a>"
      ]
    },
    {
      "cell_type": "code",
      "execution_count": 18,
      "metadata": {
        "colab": {
          "base_uri": "https://localhost:8080/"
        },
        "id": "QHYKuDCIgR5X",
        "outputId": "c3ff8150-3c09-42eb-ecf3-f9f1fc8699f0"
      },
      "outputs": [
        {
          "output_type": "stream",
          "name": "stdout",
          "text": [
            "Drive already mounted at /content/gdrive; to attempt to forcibly remount, call drive.mount(\"/content/gdrive\", force_remount=True).\n"
          ]
        }
      ],
      "source": [
        "from google.colab import drive\n",
        "drive.mount('/content/gdrive')"
      ]
    },
    {
      "cell_type": "code",
      "source": [
        "example1 = \"/content/gdrive/My Drive/Colab Notebooks/example1.txt\"\n",
        "file1 = open(example1, \"r\")"
      ],
      "metadata": {
        "id": "g-NAdc7egnHz"
      },
      "execution_count": 21,
      "outputs": []
    },
    {
      "cell_type": "code",
      "source": [
        "file1.name"
      ],
      "metadata": {
        "colab": {
          "base_uri": "https://localhost:8080/",
          "height": 36
        },
        "id": "fwJU2tCDiJvL",
        "outputId": "d82fa85f-9c66-4ff8-de31-b543e29d6a5e"
      },
      "execution_count": 22,
      "outputs": [
        {
          "output_type": "execute_result",
          "data": {
            "text/plain": [
              "'/content/gdrive/My Drive/Colab Notebooks/example1.txt'"
            ],
            "application/vnd.google.colaboratory.intrinsic+json": {
              "type": "string"
            }
          },
          "metadata": {},
          "execution_count": 22
        }
      ]
    },
    {
      "cell_type": "code",
      "source": [
        "file1.mode"
      ],
      "metadata": {
        "colab": {
          "base_uri": "https://localhost:8080/",
          "height": 36
        },
        "id": "P-lx2jOTiNJY",
        "outputId": "2424fd64-7fba-42ac-fab9-dbb1d066a0f6"
      },
      "execution_count": 23,
      "outputs": [
        {
          "output_type": "execute_result",
          "data": {
            "text/plain": [
              "'r'"
            ],
            "application/vnd.google.colaboratory.intrinsic+json": {
              "type": "string"
            }
          },
          "metadata": {},
          "execution_count": 23
        }
      ]
    },
    {
      "cell_type": "code",
      "source": [
        "FileContent = file1.read()\n",
        "FileContent"
      ],
      "metadata": {
        "colab": {
          "base_uri": "https://localhost:8080/",
          "height": 54
        },
        "id": "TgceSA--iRUe",
        "outputId": "65d6a7d1-01af-4dd1-dd4e-66b8302e3c64"
      },
      "execution_count": 24,
      "outputs": [
        {
          "output_type": "execute_result",
          "data": {
            "text/plain": [
              "'\\n죽는 날까지 하늘을 우르러\\n한점 부끄럼이 없기를、\\n잎새에 이는 바람에도\\n나는 괴로워했다。\\n별을 노래하는 마음으로\\n모든 죽어가는것을 사랑해야지\\n그리고 나안테 주어진 길을\\n거러가야겠다。\\n\\n오늘밤에도 별이 바람에 스치운다。\\n\\n\\n1941. 11. 20'"
            ],
            "application/vnd.google.colaboratory.intrinsic+json": {
              "type": "string"
            }
          },
          "metadata": {},
          "execution_count": 24
        }
      ]
    },
    {
      "cell_type": "code",
      "source": [
        "type(FileContent)"
      ],
      "metadata": {
        "colab": {
          "base_uri": "https://localhost:8080/"
        },
        "id": "r56A3EKhjJ86",
        "outputId": "0bef3b77-b8df-4380-c526-110311bbf344"
      },
      "execution_count": 25,
      "outputs": [
        {
          "output_type": "execute_result",
          "data": {
            "text/plain": [
              "str"
            ]
          },
          "metadata": {},
          "execution_count": 25
        }
      ]
    },
    {
      "cell_type": "code",
      "source": [
        "file1.close()"
      ],
      "metadata": {
        "id": "ccJryixNjNlc"
      },
      "execution_count": 26,
      "outputs": []
    },
    {
      "cell_type": "code",
      "source": [
        "with open(example1, \"r\") as file1:\n",
        "    FileContent = file1.read()\n",
        "    print(FileContent)"
      ],
      "metadata": {
        "colab": {
          "base_uri": "https://localhost:8080/"
        },
        "id": "VS-v48GhjRfe",
        "outputId": "8075479c-f2b1-4fbd-ea6b-ea9d93311811"
      },
      "execution_count": 27,
      "outputs": [
        {
          "output_type": "stream",
          "name": "stdout",
          "text": [
            "\n",
            "죽는 날까지 하늘을 우르러\n",
            "한점 부끄럼이 없기를、\n",
            "잎새에 이는 바람에도\n",
            "나는 괴로워했다。\n",
            "별을 노래하는 마음으로\n",
            "모든 죽어가는것을 사랑해야지\n",
            "그리고 나안테 주어진 길을\n",
            "거러가야겠다。\n",
            "\n",
            "오늘밤에도 별이 바람에 스치운다。\n",
            "\n",
            "\n",
            "1941. 11. 20\n"
          ]
        }
      ]
    },
    {
      "cell_type": "code",
      "source": [
        "file1.closed"
      ],
      "metadata": {
        "colab": {
          "base_uri": "https://localhost:8080/"
        },
        "id": "1KkI7QNhjVpE",
        "outputId": "9d0d97ad-15fc-4e8c-ead5-6ef161627301"
      },
      "execution_count": 28,
      "outputs": [
        {
          "output_type": "execute_result",
          "data": {
            "text/plain": [
              "True"
            ]
          },
          "metadata": {},
          "execution_count": 28
        }
      ]
    },
    {
      "cell_type": "code",
      "source": [
        "with open(example1, \"r\") as file1:\n",
        "    print(file1.read(29))"
      ],
      "metadata": {
        "colab": {
          "base_uri": "https://localhost:8080/"
        },
        "id": "cpbcSztfjZla",
        "outputId": "73de82ce-2c3e-45cd-e9b1-13d1b7200605"
      },
      "execution_count": 34,
      "outputs": [
        {
          "output_type": "stream",
          "name": "stdout",
          "text": [
            "\n",
            "죽는 날까지 하늘을 우르러\n",
            "한점 부끄럼이 없기를、\n",
            "\n"
          ]
        }
      ]
    },
    {
      "cell_type": "code",
      "source": [
        "with open(example1, \"r\") as file1:\n",
        "    print(file1.read(4))\n",
        "    print(file1.read(4))\n",
        "    print(file1.read(7))\n",
        "    print(file1.read(15))"
      ],
      "metadata": {
        "colab": {
          "base_uri": "https://localhost:8080/"
        },
        "id": "Gw5V0PZfjsf0",
        "outputId": "17832bc4-e749-4a6d-b516-1eac10d44794"
      },
      "execution_count": 35,
      "outputs": [
        {
          "output_type": "stream",
          "name": "stdout",
          "text": [
            "\n",
            "죽는 \n",
            "날까지 \n",
            "하늘을 우르러\n",
            "\n",
            "한점 부끄럼이 없기를、\n",
            "잎\n"
          ]
        }
      ]
    },
    {
      "cell_type": "code",
      "source": [
        "with open(example1, \"r\") as file1:\n",
        "    print(file1.read(16))\n",
        "    print(file1.read(5))\n",
        "    print(file1.read(9))"
      ],
      "metadata": {
        "colab": {
          "base_uri": "https://localhost:8080/"
        },
        "id": "y291MEOAjwt2",
        "outputId": "55c80477-a4bd-44fb-b5c5-5b89a3dee686"
      },
      "execution_count": 36,
      "outputs": [
        {
          "output_type": "stream",
          "name": "stdout",
          "text": [
            "\n",
            "죽는 날까지 하늘을 우르러\n",
            "\n",
            "한점 부끄\n",
            "럼이 없기를、\n",
            "잎\n"
          ]
        }
      ]
    },
    {
      "cell_type": "code",
      "source": [
        "with open(example1, \"r\") as file1:\n",
        "    print(\"first line: \" + file1.readline())\n",
        "    print(\"second line: \" + file1.readline())\n",
        "    print(\"third line: \" + file1.readline())"
      ],
      "metadata": {
        "colab": {
          "base_uri": "https://localhost:8080/"
        },
        "id": "8u_GNlmsj0q-",
        "outputId": "ab6ccccc-e168-4680-c849-a05abc5ca788"
      },
      "execution_count": 37,
      "outputs": [
        {
          "output_type": "stream",
          "name": "stdout",
          "text": [
            "first line: \n",
            "\n",
            "second line: 죽는 날까지 하늘을 우르러\n",
            "\n",
            "third line: 한점 부끄럼이 없기를、\n",
            "\n"
          ]
        }
      ]
    },
    {
      "cell_type": "code",
      "source": [
        "with open(example1,\"r\") as file1:\n",
        "        i = 0;\n",
        "        for line in file1:\n",
        "            print(\"Iteration\", str(i), \": \", line)\n",
        "            i = i + 1;"
      ],
      "metadata": {
        "colab": {
          "base_uri": "https://localhost:8080/"
        },
        "id": "CplAb-T2j4Ka",
        "outputId": "e2f6e3ef-acb1-4b25-b012-01fd0fb2e5c5"
      },
      "execution_count": 38,
      "outputs": [
        {
          "output_type": "stream",
          "name": "stdout",
          "text": [
            "Iteration 0 :  \n",
            "\n",
            "Iteration 1 :  죽는 날까지 하늘을 우르러\n",
            "\n",
            "Iteration 2 :  한점 부끄럼이 없기를、\n",
            "\n",
            "Iteration 3 :  잎새에 이는 바람에도\n",
            "\n",
            "Iteration 4 :  나는 괴로워했다。\n",
            "\n",
            "Iteration 5 :  별을 노래하는 마음으로\n",
            "\n",
            "Iteration 6 :  모든 죽어가는것을 사랑해야지\n",
            "\n",
            "Iteration 7 :  그리고 나안테 주어진 길을\n",
            "\n",
            "Iteration 8 :  거러가야겠다。\n",
            "\n",
            "Iteration 9 :  \n",
            "\n",
            "Iteration 10 :  오늘밤에도 별이 바람에 스치운다。\n",
            "\n",
            "Iteration 11 :  \n",
            "\n",
            "Iteration 12 :  \n",
            "\n",
            "Iteration 13 :  1941. 11. 20\n"
          ]
        }
      ]
    },
    {
      "cell_type": "code",
      "source": [
        "with open(example1, \"r\") as file1:\n",
        "    FileasList = file1.readlines()"
      ],
      "metadata": {
        "id": "l21d9Xyjj749"
      },
      "execution_count": 39,
      "outputs": []
    },
    {
      "cell_type": "code",
      "source": [
        "FileasList[0]"
      ],
      "metadata": {
        "colab": {
          "base_uri": "https://localhost:8080/",
          "height": 36
        },
        "id": "ZBj3PFXcj-yX",
        "outputId": "5f263183-1774-4006-f469-e1d008f9dbc3"
      },
      "execution_count": 40,
      "outputs": [
        {
          "output_type": "execute_result",
          "data": {
            "text/plain": [
              "'\\n'"
            ],
            "application/vnd.google.colaboratory.intrinsic+json": {
              "type": "string"
            }
          },
          "metadata": {},
          "execution_count": 40
        }
      ]
    },
    {
      "cell_type": "code",
      "source": [
        "FileasList[1]"
      ],
      "metadata": {
        "colab": {
          "base_uri": "https://localhost:8080/",
          "height": 36
        },
        "id": "QNJ1WPgEkBqe",
        "outputId": "9727cfa4-fa3c-478d-85c2-bee1b73f9699"
      },
      "execution_count": 41,
      "outputs": [
        {
          "output_type": "execute_result",
          "data": {
            "text/plain": [
              "'죽는 날까지 하늘을 우르러\\n'"
            ],
            "application/vnd.google.colaboratory.intrinsic+json": {
              "type": "string"
            }
          },
          "metadata": {},
          "execution_count": 41
        }
      ]
    },
    {
      "cell_type": "code",
      "source": [
        "FileasList[2]"
      ],
      "metadata": {
        "colab": {
          "base_uri": "https://localhost:8080/",
          "height": 36
        },
        "id": "gAjZcjJukE38",
        "outputId": "23ad457f-c0d2-41d6-e118-0a33e0d118bf"
      },
      "execution_count": 42,
      "outputs": [
        {
          "output_type": "execute_result",
          "data": {
            "text/plain": [
              "'한점 부끄럼이 없기를、\\n'"
            ],
            "application/vnd.google.colaboratory.intrinsic+json": {
              "type": "string"
            }
          },
          "metadata": {},
          "execution_count": 42
        }
      ]
    },
    {
      "cell_type": "code",
      "source": [
        "FileasList[4]"
      ],
      "metadata": {
        "colab": {
          "base_uri": "https://localhost:8080/",
          "height": 36
        },
        "id": "tLwF7-RikIp3",
        "outputId": "d0e44785-d222-498f-81e7-1eb0372a8270"
      },
      "execution_count": 43,
      "outputs": [
        {
          "output_type": "execute_result",
          "data": {
            "text/plain": [
              "'나는 괴로워했다。\\n'"
            ],
            "application/vnd.google.colaboratory.intrinsic+json": {
              "type": "string"
            }
          },
          "metadata": {},
          "execution_count": 43
        }
      ]
    }
  ]
}